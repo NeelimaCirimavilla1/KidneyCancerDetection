{
  "cells": [
    {
      "cell_type": "markdown",
      "metadata": {
        "id": "JypvFUdCy7df"
      },
      "source": [
        "## Step 1: Importing all the necessary libraries\n",
        "\n"
      ]
    },
    {
      "cell_type": "code",
      "execution_count": null,
      "metadata": {
        "id": "ksIX4dI2c_ae"
      },
      "outputs": [],
      "source": [
        "from tensorflow.keras.models import Sequential\n",
        "from tensorflow.keras.layers import Conv2D, MaxPooling2D, Dropout, Flatten, Dense\n",
        "from tensorflow.keras.optimizers import Adam\n",
        "from tensorflow.keras.preprocessing.image import ImageDataGenerator\n",
        "from tensorflow.keras.layers import BatchNormalization\n",
        "import tensorflow as tf\n",
        "from tensorflow import keras\n",
        "import numpy as np\n",
        "from PIL import Image\n",
        "import os\n",
        "import matplotlib.pyplot as plt\n",
        "import matplotlib.image as mpimg\n",
        "import plotly.express as px\n",
        "import random"
      ]
    },
    {
      "cell_type": "markdown",
      "metadata": {
        "id": "usI6ZlR_z_xA"
      },
      "source": [
        "##Step 2 : Use Kaggle API to download the dataset from Kaggle directly on the Colab Platform\n"
      ]
    },
    {
      "cell_type": "markdown",
      "metadata": {
        "id": "8fl_r_ds0fSF"
      },
      "source": [
        "Please provide your Kaggle API credentials i.e Kaggle's username and Kaggle's key to directly import the dataset from the Kaggle platform. For testing purpose, given below are the credentials for my test account\n"
      ]
    },
    {
      "cell_type": "code",
      "execution_count": null,
      "metadata": {
        "id": "5YxjO6XxjdZC"
      },
      "outputs": [],
      "source": [
        "#Enter your Kaggle's username on the 'KAGGLE_USERNAME' and Kaggle's key on the 'KAGGLE_KEY'\n",
        "os.environ['KAGGLE_USERNAME']='learninginnovation'\n",
        "os.environ['KAGGLE_KEY']='164ee06096a9108c3fe99d8b25025411'"
      ]
    },
    {
      "cell_type": "code",
      "execution_count": null,
      "metadata": {
        "colab": {
          "base_uri": "https://localhost:8080/"
        },
        "id": "2Ux2WRRymSzP",
        "outputId": "d0e30f90-e2b6-4958-b1cc-d6fe55d9c4fb"
      },
      "outputs": [
        {
          "name": "stdout",
          "output_type": "stream",
          "text": [
            "Downloading multi-cancer.zip to /content\n",
            " 26% 2.27G/8.62G [02:03<08:33, 13.3MB/s]"
          ]
        }
      ],
      "source": [
        "# Downloads the Multi Cancer dataset from Kaggle directly to the Colab\n",
        "! kaggle datasets download -d obulisainaren/multi-cancer"
      ]
    },
    {
      "cell_type": "code",
      "execution_count": null,
      "metadata": {
        "id": "GLhhZk1Rnbx5"
      },
      "outputs": [],
      "source": [
        "#unzip the multi cancer dataset folder\n",
        "! unzip multi-cancer.zip"
      ]
    },
    {
      "cell_type": "markdown",
      "metadata": {
        "id": "qbJT1s7h2gn0"
      },
      "source": [
        "##Step 3 : Distribution of the data & Splitting the data into training and testing sets"
      ]
    },
    {
      "cell_type": "code",
      "execution_count": null,
      "metadata": {
        "id": "bI5XP-kd7qVv"
      },
      "outputs": [],
      "source": [
        "#counts the total number of images in the normal kidney folder\n",
        "total_normal_kidney_files = len(os.listdir(\"/content/Multi Cancer/Kidney Cancer/kidney_normal/\"))\n",
        "#counts the total number of images in the tumor kidney folder\n",
        "total_tumor_kidney_files= len(os.listdir(\"/content/Multi Cancer/Kidney Cancer/kidney_tumor/\"))"
      ]
    },
    {
      "cell_type": "code",
      "execution_count": null,
      "metadata": {
        "id": "OPAufQSSPjaA"
      },
      "outputs": [],
      "source": [
        "#bar graph shows the distribution of data for the total number of files present in the dataset\n",
        "bar_graph = px.bar(x=['Normal Kidney', 'Tumor Kidney'], y=[total_normal_kidney_files, total_tumor_kidney_files],labels={'x': 'Types', 'y': 'Total images'},\n",
        "title='Bar graph for total number of files present in the dataset'\n",
        ")\n",
        "bar_graph.update_traces(marker_color=['rgb(255, 255, 0)', 'rgb(204, 0, 0)'])\n",
        "\n",
        "bar_graph.show()"
      ]
    },
    {
      "cell_type": "markdown",
      "metadata": {
        "id": "Qv1sJszd35q8"
      },
      "source": [
        "Since the dataset initially is not splitted into training,testing and validation sets, our initial goal is to split the structure of the dataset"
      ]
    },
    {
      "cell_type": "code",
      "execution_count": null,
      "metadata": {
        "id": "XT3nK3as7qfm"
      },
      "outputs": [],
      "source": [
        "#Below code splits the total number of normal kidney and tumor kidney files into 80:20 ratio for training set and testing set\n",
        "train_normal_kidney = int(0.8*total_normal_kidney_files)     # 80% for training set in normal kidney class\n",
        "train_tumor_kidney= int(0.8*total_tumor_kidney_files)        # 80% for training set in tumor kidney class\n",
        "test_normal_kidney=int(0.2*total_normal_kidney_files)        # 20% for testing set in normal kidney class\n",
        "test_tumor_kidney=int(0.2*total_tumor_kidney_files)          # 20% for testing set in tumor kidney class"
      ]
    },
    {
      "cell_type": "code",
      "execution_count": null,
      "metadata": {
        "id": "iXEChD2VSHbS"
      },
      "outputs": [],
      "source": [
        "#bar graph shows the distribution of data in different sets i.e training_normal, training_tumor, testing_normal and testing_tumor\n",
        "bar_graph_train_test = px.bar(x=['Training set- Normal Kidney','Training set- Tumor Kidney','Testing set- Normal Kidney','Testing set- Tumor Kidney'], y=[train_normal_kidney, train_tumor_kidney,test_normal_kidney,test_tumor_kidney],labels={'x': 'Training & Testing Sets', 'y': 'Total images'},\n",
        "title='Bar graph for total number of files present in each training and testing dataset'\n",
        ")\n",
        "bar_graph_train_test.update_traces(marker_color=['rgb(204, 0, 0)', 'rgb(204, 0, 0)'])\n",
        "bar_graph_train_test.show()"
      ]
    },
    {
      "cell_type": "code",
      "execution_count": null,
      "metadata": {
        "id": "oSWA32Ha614N"
      },
      "outputs": [],
      "source": [
        "# The below code creates a parent directory called \"Kidney Cancer\" followed by creating sub directories named 'Train' and 'Test'. Each 'Train' and 'Test' folder then contains two child sub directories called 'kidney_normal' and 'kidney_tumor'\n",
        "\n",
        "parentDir = \"Kidney Cancer\"\n",
        "subDirs = [\"Train\", \"Test\"]\n",
        "childDirs = [\"kidney_normal\", \"kidney_tumor\"]\n",
        "\n",
        "# Below code creates a parent directory called \"Kidney Cancer\"\n",
        "if not os.path.exists(parentDir):\n",
        "    os.mkdir(parentDir)\n",
        "\n",
        "# Below code creates the subdirectories named Train and Test\n",
        "for sub in subDirs:\n",
        "    subPath = os.path.join(parentDir, sub)\n",
        "    if not os.path.exists(subPath):\n",
        "        os.mkdir(subPath)\n",
        "\n",
        "# Below code creates two child sub directories named kidney_normal and kidney_tumor within each subdirectory- Train and Test\n",
        "    for child in childDirs:\n",
        "        child_path = os.path.join(subPath, child)\n",
        "        if not os.path.exists(child_path):\n",
        "            os.mkdir(child_path)\n",
        "\n",
        "train_dir = os.path.join(parentDir,'Train')\n",
        "test_dir = os.path.join(parentDir,'Test')\n",
        "train_normal_dir = os.path.join(train_dir,'kidney_normal')\n",
        "train_tumor_dir = os.path.join(train_dir,'kidney_tumor')\n"
      ]
    },
    {
      "cell_type": "code",
      "execution_count": null,
      "metadata": {
        "id": "S7Pd7Rwl7qpi"
      },
      "outputs": [],
      "source": [
        "#save images from old directory to the newly created parent directory in a splitted manner\n",
        "for dirName in childDirs:\n",
        "  for increment in range(1,train_normal_kidney+1):\n",
        "    imageNum = f\"{increment:04}\"\n",
        "    img = Image.open(\"/content/Multi Cancer/Kidney Cancer/\"+dirName+\"/\"+dirName+\"_\"+str(imageNum)+\".jpg\")\n",
        "    image = img.save(train_dir+\"/\"+dirName+\"/\"+dirName+\"_\"+str(imageNum)+\".jpg\")\n",
        "\n",
        "\n",
        "for dirName in childDirs:\n",
        "  for increment in range(4001,total_normal_kidney_files+1):\n",
        "    img2 =Image.open(\"/content/Multi Cancer/Kidney Cancer/\"+dirName+\"/\"+dirName+\"_\"+str(increment)+\".jpg\")\n",
        "    image = img2.save(test_dir+\"/\"+dirName+\"/\"+dirName+\"_\"+str(increment)+\".jpg\")"
      ]
    },
    {
      "cell_type": "code",
      "execution_count": null,
      "metadata": {
        "id": "xtHBUGPztPj-"
      },
      "outputs": [],
      "source": [
        "#list few names of the files from the training dataset for each of the classes\n",
        "train_normal_names = os.listdir(train_normal_dir)\n",
        "print(train_normal_names[:10])\n",
        "\n",
        "train_tumor_names = os.listdir(train_tumor_dir)\n",
        "print(train_tumor_names[:10])"
      ]
    },
    {
      "cell_type": "markdown",
      "metadata": {
        "id": "p6b-yPNHOeNg"
      },
      "source": [
        "## Step 4 : Data Visualization"
      ]
    },
    {
      "cell_type": "code",
      "execution_count": null,
      "metadata": {
        "id": "fy4hdCk2UKxd"
      },
      "outputs": [],
      "source": [
        "nrows = 8\n",
        "ncols = 8\n",
        "plt.figure(figsize=(24,24))\n",
        "\n",
        "random_images = 8\n",
        "\n",
        "# Select random images from train normal kidney directory\n",
        "normal_pic = random.sample(train_normal_names, random_images)\n",
        "normal_kidney_pic = [os.path.join(train_normal_dir, i) for i in normal_pic]\n",
        "\n",
        "# Select random images from train normal kidney directory\n",
        "tumor_pic = random.sample(train_tumor_names, random_images)\n",
        "tumor_kidney_pic = [os.path.join(train_tumor_dir, i) for i in tumor_pic]\n",
        "\n",
        "# Merge the selected images into total_images list\n",
        "total_images = normal_kidney_pic + tumor_kidney_pic\n",
        "\n",
        "# Print the merged list of images\n",
        "print(total_images)\n",
        "\n",
        "for i in range(0,len(total_images)):\n",
        "  data = total_images[i].split('/',3)[3]\n",
        "  plot = plt.subplot(8,8,i+1)\n",
        "  plot.axis('Off')\n",
        "  image = mpimg.imread(total_images[i])\n",
        "  plot.set_title(data,fontsize=10)\n",
        "  plt.imshow(image)\n",
        "\n",
        "plt.show()\n",
        "\n"
      ]
    },
    {
      "cell_type": "markdown",
      "metadata": {
        "id": "wdRpKvrIQl23"
      },
      "source": [
        "## Step 5 : Data Augmentation and Generators for Training, Testing, and Validation"
      ]
    },
    {
      "cell_type": "code",
      "execution_count": null,
      "metadata": {
        "id": "QUzbcA6ma5xX"
      },
      "outputs": [],
      "source": [
        "trainDatagen = ImageDataGenerator(\n",
        "    rescale=1./255,\n",
        "    zoom_range=0.05,\n",
        "    rotation_range=20,\n",
        "    horizontal_flip=True,\n",
        "    validation_split=0.2\n",
        ")\n",
        "\n",
        "validDatagen=ImageDataGenerator(rescale=1./255)\n",
        "\n",
        "testDatagen=ImageDataGenerator(rescale=1./255)\n",
        "\n",
        "train_generator= trainDatagen.flow_from_directory(train_dir,\n",
        "                                                   class_mode='binary',\n",
        "                                                   batch_size=32,\n",
        "                                                   target_size=(224,224),\n",
        "                                                   subset='training')\n",
        "validation_generator= trainDatagen.flow_from_directory(train_dir,\n",
        "                                                       class_mode='binary',\n",
        "                                                       batch_size=32,\n",
        "                                                       target_size=(224,224),\n",
        "                                                       subset='validation')\n",
        "test_generator=testDatagen.flow_from_directory(test_dir,\n",
        "                                                class_mode='binary',\n",
        "                                                batch_size=32,\n",
        "                                                target_size=(224,224))"
      ]
    },
    {
      "cell_type": "markdown",
      "source": [
        "## Determine classes"
      ],
      "metadata": {
        "id": "4Vyjq_RuuaH1"
      }
    },
    {
      "cell_type": "code",
      "execution_count": null,
      "metadata": {
        "id": "oXt2Ov-X6nbD"
      },
      "outputs": [],
      "source": [
        "train_generator.class_indices"
      ]
    },
    {
      "cell_type": "markdown",
      "source": [
        "##Build the Convolutional Neural Network Architecure"
      ],
      "metadata": {
        "id": "7a4A3g7kuhw-"
      }
    },
    {
      "cell_type": "code",
      "execution_count": null,
      "metadata": {
        "id": "L6haK6RjACbV"
      },
      "outputs": [],
      "source": [
        "model = Sequential()\n",
        "model.add(Conv2D(32,(3,3),activation = \"relu\", input_shape = (224,224,3)))\n",
        "model.add(MaxPooling2D(pool_size = (4,4)))\n",
        "model.add(Dropout(0.2))\n",
        "model.add(Conv2D(32,(3,3),activation='relu'))\n",
        "model.add(MaxPooling2D(pool_size = (2,2)))\n",
        "model.add(Dropout(0.3))\n",
        "model.add(Conv2D(16,(3,3),activation='relu'))\n",
        "model.add(MaxPooling2D(pool_size = (2,2)))\n",
        "model.add(Dropout(0.2))\n",
        "model.add(Conv2D(16,(3,3),activation='relu'))\n",
        "model.add(MaxPooling2D(pool_size = (2,2)))\n",
        "model.add(Dropout(0.3))\n",
        "model.add(Conv2D(16,(3,3),activation='relu'))\n",
        "model.add(MaxPooling2D(pool_size = (2,2)))\n",
        "\n",
        "model.add(Flatten())\n",
        "model.add(Dense(units=256, activation = 'relu'))\n",
        "model.add(Dense(units=128, activation = 'relu'))\n",
        "\n",
        "model.add(Dense(units=1, activation = 'sigmoid'))"
      ]
    },
    {
      "cell_type": "markdown",
      "source": [
        "##Get the summary of the model"
      ],
      "metadata": {
        "id": "uyUY1VmtupuQ"
      }
    },
    {
      "cell_type": "code",
      "execution_count": null,
      "metadata": {
        "id": "q0fmKBJjObCE"
      },
      "outputs": [],
      "source": [
        "model.summary()"
      ]
    },
    {
      "cell_type": "markdown",
      "source": [
        "## Display the layers"
      ],
      "metadata": {
        "id": "oiz4_3_Gutfe"
      }
    },
    {
      "cell_type": "code",
      "execution_count": null,
      "metadata": {
        "id": "fDutVztROx5l"
      },
      "outputs": [],
      "source": [
        "keras.utils.plot_model(\n",
        "    model,\n",
        "    show_shapes=True,\n",
        "    show_dtype=True,\n",
        "    show_layer_names=True,\n",
        "    rankdir=\"TB\",\n",
        "    expand_nested=False,\n",
        "    dpi=96,\n",
        "    layer_range=None,\n",
        "    show_layer_activations=True,\n",
        ")"
      ]
    },
    {
      "cell_type": "markdown",
      "source": [
        "## Compile the Model"
      ],
      "metadata": {
        "id": "lWm2x6y2u33Y"
      }
    },
    {
      "cell_type": "code",
      "execution_count": null,
      "metadata": {
        "id": "lk8xv3b1BscY"
      },
      "outputs": [],
      "source": [
        "model.compile(Adam(learning_rate=0.0001),loss='binary_crossentropy',metrics=['accuracy'])"
      ]
    },
    {
      "cell_type": "markdown",
      "source": [
        "## Implement early stopping to prevent Overfitting"
      ],
      "metadata": {
        "id": "tUaRZ-bau8ME"
      }
    },
    {
      "cell_type": "code",
      "execution_count": null,
      "metadata": {
        "id": "1X9KqGnF_KhF"
      },
      "outputs": [],
      "source": [
        "early_stopping = tf.keras.callbacks.EarlyStopping(\n",
        "    monitor='val_loss',\n",
        "    patience=5,\n",
        "    restore_best_weights=True\n",
        ")"
      ]
    },
    {
      "cell_type": "markdown",
      "source": [
        "## Train the CNN model"
      ],
      "metadata": {
        "id": "NZwQLNu_vASB"
      }
    },
    {
      "cell_type": "code",
      "execution_count": null,
      "metadata": {
        "colab": {
          "background_save": true
        },
        "id": "qfVaItwnGAkd",
        "outputId": "1ca6069e-2149-48c4-98f8-12717898fcf2"
      },
      "outputs": [
        {
          "name": "stdout",
          "output_type": "stream",
          "text": [
            "Epoch 1/50\n",
            "200/200 [==============================] - 111s 491ms/step - loss: 0.6910 - accuracy: 0.5145 - val_loss: 0.6907 - val_accuracy: 0.5081\n",
            "Epoch 2/50\n",
            "200/200 [==============================] - 95s 477ms/step - loss: 0.6536 - accuracy: 0.6169 - val_loss: 0.5343 - val_accuracy: 0.8338\n",
            "Epoch 3/50\n",
            "200/200 [==============================] - 96s 479ms/step - loss: 0.5451 - accuracy: 0.7495 - val_loss: 0.4900 - val_accuracy: 0.8394\n",
            "Epoch 4/50\n",
            "200/200 [==============================] - 97s 484ms/step - loss: 0.5074 - accuracy: 0.7756 - val_loss: 0.4641 - val_accuracy: 0.8506\n",
            "Epoch 5/50\n",
            "200/200 [==============================] - 97s 485ms/step - loss: 0.4857 - accuracy: 0.7864 - val_loss: 0.4617 - val_accuracy: 0.8612\n",
            "Epoch 6/50\n",
            "200/200 [==============================] - 95s 475ms/step - loss: 0.4659 - accuracy: 0.7987 - val_loss: 0.4571 - val_accuracy: 0.8481\n",
            "Epoch 7/50\n",
            "200/200 [==============================] - 97s 488ms/step - loss: 0.4382 - accuracy: 0.8112 - val_loss: 0.4254 - val_accuracy: 0.8575\n",
            "Epoch 8/50\n",
            "200/200 [==============================] - 99s 493ms/step - loss: 0.4316 - accuracy: 0.8123 - val_loss: 0.4314 - val_accuracy: 0.8569\n",
            "Epoch 9/50\n",
            "200/200 [==============================] - 97s 486ms/step - loss: 0.4166 - accuracy: 0.8228 - val_loss: 0.3933 - val_accuracy: 0.8531\n",
            "Epoch 10/50\n",
            "200/200 [==============================] - 98s 493ms/step - loss: 0.4060 - accuracy: 0.8253 - val_loss: 0.3966 - val_accuracy: 0.8500\n",
            "Epoch 11/50\n",
            "200/200 [==============================] - 96s 482ms/step - loss: 0.4042 - accuracy: 0.8206 - val_loss: 0.3743 - val_accuracy: 0.8662\n",
            "Epoch 12/50\n",
            "200/200 [==============================] - 98s 490ms/step - loss: 0.3767 - accuracy: 0.8391 - val_loss: 0.3608 - val_accuracy: 0.8556\n",
            "Epoch 13/50\n",
            "200/200 [==============================] - 99s 494ms/step - loss: 0.3626 - accuracy: 0.8475 - val_loss: 0.3568 - val_accuracy: 0.8694\n",
            "Epoch 14/50\n",
            "200/200 [==============================] - 96s 481ms/step - loss: 0.3521 - accuracy: 0.8520 - val_loss: 0.3429 - val_accuracy: 0.8650\n",
            "Epoch 15/50\n",
            "200/200 [==============================] - 98s 489ms/step - loss: 0.3353 - accuracy: 0.8575 - val_loss: 0.3461 - val_accuracy: 0.8631\n",
            "Epoch 16/50\n",
            "200/200 [==============================] - 97s 485ms/step - loss: 0.3188 - accuracy: 0.8659 - val_loss: 0.3691 - val_accuracy: 0.8700\n",
            "Epoch 17/50\n",
            "200/200 [==============================] - 99s 495ms/step - loss: 0.3089 - accuracy: 0.8687 - val_loss: 0.3267 - val_accuracy: 0.8681\n",
            "Epoch 18/50\n",
            "200/200 [==============================] - 99s 494ms/step - loss: 0.2912 - accuracy: 0.8780 - val_loss: 0.3363 - val_accuracy: 0.8831\n",
            "Epoch 19/50\n",
            "200/200 [==============================] - 97s 486ms/step - loss: 0.2722 - accuracy: 0.8864 - val_loss: 0.3091 - val_accuracy: 0.8881\n",
            "Epoch 20/50\n",
            "200/200 [==============================] - 97s 488ms/step - loss: 0.2637 - accuracy: 0.8875 - val_loss: 0.3233 - val_accuracy: 0.8869\n",
            "Epoch 21/50\n",
            "200/200 [==============================] - 98s 493ms/step - loss: 0.2618 - accuracy: 0.8923 - val_loss: 0.3057 - val_accuracy: 0.8944\n",
            "Epoch 22/50\n",
            "200/200 [==============================] - 97s 484ms/step - loss: 0.2512 - accuracy: 0.9003 - val_loss: 0.3246 - val_accuracy: 0.8944\n",
            "Epoch 23/50\n",
            "200/200 [==============================] - 95s 477ms/step - loss: 0.2364 - accuracy: 0.9070 - val_loss: 0.3143 - val_accuracy: 0.8956\n",
            "Epoch 24/50\n",
            "200/200 [==============================] - 97s 484ms/step - loss: 0.2241 - accuracy: 0.9100 - val_loss: 0.2996 - val_accuracy: 0.8938\n",
            "Epoch 25/50\n",
            "200/200 [==============================] - 95s 475ms/step - loss: 0.2228 - accuracy: 0.9127 - val_loss: 0.3137 - val_accuracy: 0.8938\n",
            "Epoch 26/50\n",
            "200/200 [==============================] - 95s 475ms/step - loss: 0.2073 - accuracy: 0.9144 - val_loss: 0.3261 - val_accuracy: 0.8900\n",
            "Epoch 27/50\n",
            "200/200 [==============================] - 92s 463ms/step - loss: 0.2011 - accuracy: 0.9195 - val_loss: 0.3022 - val_accuracy: 0.8988\n",
            "Epoch 28/50\n",
            "200/200 [==============================] - 93s 462ms/step - loss: 0.1978 - accuracy: 0.9175 - val_loss: 0.3075 - val_accuracy: 0.8919\n",
            "Epoch 29/50\n",
            "200/200 [==============================] - 93s 465ms/step - loss: 0.1760 - accuracy: 0.9306 - val_loss: 0.3248 - val_accuracy: 0.8906\n"
          ]
        }
      ],
      "source": [
        "history = model.fit(train_generator,\n",
        "                    epochs = 50,\n",
        "                    validation_data = validation_generator,\n",
        "                    callbacks=[early_stopping]\n",
        "                    )"
      ]
    },
    {
      "cell_type": "markdown",
      "source": [
        "## Plot the Training vs Validation loss"
      ],
      "metadata": {
        "id": "5L2KgxLTvIAd"
      }
    },
    {
      "cell_type": "code",
      "execution_count": 33,
      "metadata": {
        "colab": {
          "base_uri": "https://localhost:8080/",
          "height": 489
        },
        "id": "mIcN5nXoL05-",
        "outputId": "d1b9862a-8f19-473b-a99a-ad1cf57fb816"
      },
      "outputs": [
        {
          "output_type": "execute_result",
          "data": {
            "text/plain": [
              "Text(0.5, 0, 'epoch')"
            ]
          },
          "metadata": {},
          "execution_count": 33
        },
        {
          "output_type": "display_data",
          "data": {
            "text/plain": [
              "<Figure size 640x480 with 1 Axes>"
            ],
            "image/png": "[encoded data removed]"
          },
          "metadata": {}
        }
      ],
      "source": [
        "plt.plot(history.history['loss'])\n",
        "plt.plot(history.history['val_loss'])\n",
        "plt.legend(['training','validation'])\n",
        "plt.title('Training and validation loss')\n",
        "plt.xlabel('epoch')"
      ]
    },
    {
      "cell_type": "markdown",
      "source": [
        "## Plot the Training Vs Validation accuracy"
      ],
      "metadata": {
        "id": "wnDaud6NvOPY"
      }
    },
    {
      "cell_type": "code",
      "execution_count": 34,
      "metadata": {
        "colab": {
          "base_uri": "https://localhost:8080/",
          "height": 489
        },
        "id": "20N093eLR75_",
        "outputId": "221eee1c-223d-43a5-d8c8-1a2cbcdb2944"
      },
      "outputs": [
        {
          "output_type": "execute_result",
          "data": {
            "text/plain": [
              "Text(0.5, 0, 'epoch')"
            ]
          },
          "metadata": {},
          "execution_count": 34
        },
        {
          "output_type": "display_data",
          "data": {
            "text/plain": [
              "<Figure size 640x480 with 1 Axes>"
            ],
            "image/png": "[encoded data removed]"
          },
          "metadata": {}
        }
      ],
      "source": [
        "plt.plot(history.history['accuracy'])\n",
        "plt.plot(history.history['val_accuracy'])\n",
        "plt.legend(['training','validation'])\n",
        "plt.title('Training and validation accuracy')\n",
        "plt.xlabel('epoch')"
      ]
    },
    {
      "cell_type": "markdown",
      "source": [
        "## Evaluate the Model"
      ],
      "metadata": {
        "id": "FLshCX9jvTvH"
      }
    },
    {
      "cell_type": "code",
      "execution_count": 35,
      "metadata": {
        "colab": {
          "base_uri": "https://localhost:8080/"
        },
        "id": "fJ94PTbTubEu",
        "outputId": "485dc647-a7c5-4ab1-a358-586e4545c967"
      },
      "outputs": [
        {
          "output_type": "stream",
          "name": "stdout",
          "text": [
            "63/63 [==============================] - 8s 125ms/step - loss: 0.2578 - accuracy: 0.9125\n",
            "test acc :0.9125000238418579 test loss:0.2577940821647644\n"
          ]
        }
      ],
      "source": [
        "test_loss , test_acc = model.evaluate(test_generator)\n",
        "print('test acc :{} test loss:{}'.format(test_acc,test_loss))"
      ]
    },
    {
      "cell_type": "code",
      "execution_count": null,
      "metadata": {
        "id": "1zhVTztDI5fs"
      },
      "outputs": [],
      "source": [
        "import os\n",
        "import numpy as np\n",
        "from tensorflow.keras.preprocessing import image\n",
        "from sklearn.metrics import classification_report\n",
        "\n",
        "# Initialize empty lists to store predicted and true labels\n",
        "y_test = []\n",
        "y_actual = []\n",
        "\n",
        "normal_dir = \"/content/Kidney Cancer/Test/kidney_normal/\"\n",
        "tumor_dir = \"/content/Kidney Cancer/Test/kidney_tumor/\"\n",
        "sum=0\n",
        "# Define a function to load and preprocess images\n",
        "def load_and_preprocess_image(img_path):\n",
        "    img = image.load_img(img_path, target_size=(224, 224))\n",
        "    img = image.img_to_array(img)\n",
        "    img = np.expand_dims(img, axis=0)\n",
        "    img /= 255.0  # Rescale to match the training data preprocessing\n",
        "    return img\n",
        "\n",
        "# Iterate through normal images\n",
        "for i in os.listdir(normal_dir):\n",
        "    print(i)\n",
        "    sum=sum+1\n",
        "    img_path = os.path.join(normal_dir, i)\n",
        "    img = load_and_preprocess_image(img_path)\n",
        "    p = model.predict(img)\n",
        "    predicted_class = 1 if p[0, 0] > 0.5 else 0\n",
        "    y_test.append(predicted_class)\n",
        "    y_actual.append(0)  # 0 for normal class\n",
        "\n",
        "print(sum)\n",
        "\n",
        "# Iterate through tumor images\n",
        "for i in os.listdir(tumor_dir):\n",
        "    img_path = os.path.join(tumor_dir, i)\n",
        "    img = load_and_preprocess_image(img_path)\n",
        "    p = model.predict(img)\n",
        "    predicted_class = 1 if p[0, 0] > 0.5 else 0\n",
        "    y_test.append(predicted_class)\n",
        "    y_actual.append(1) #1 for tumor class\n",
        "\n",
        "print(y_test)\n",
        "print(y_actual)"
      ]
    },
    {
      "cell_type": "code",
      "execution_count": 37,
      "metadata": {
        "id": "qkPdkVI5nd9v"
      },
      "outputs": [],
      "source": [
        "y_actual = np.array(y_actual)\n",
        "y_test = np.array(y_test)"
      ]
    },
    {
      "cell_type": "markdown",
      "source": [
        "##Generate Confusion Matrix"
      ],
      "metadata": {
        "id": "wMb8d9i2v50_"
      }
    },
    {
      "cell_type": "code",
      "execution_count": 38,
      "metadata": {
        "id": "k26CjwSxnqd4"
      },
      "outputs": [],
      "source": [
        "from sklearn.metrics import confusion_matrix\n",
        "cm = confusion_matrix(y_actual,y_test)\n"
      ]
    },
    {
      "cell_type": "code",
      "execution_count": 39,
      "metadata": {
        "id": "bsgUPCZUoELD",
        "colab": {
          "base_uri": "https://localhost:8080/",
          "height": 447
        },
        "outputId": "7d6a8e25-29ec-4153-9182-e7c6d51a6c46"
      },
      "outputs": [
        {
          "output_type": "execute_result",
          "data": {
            "text/plain": [
              "<Axes: >"
            ]
          },
          "metadata": {},
          "execution_count": 39
        },
        {
          "output_type": "display_data",
          "data": {
            "text/plain": [
              "<Figure size 640x480 with 2 Axes>"
            ],
            "image/png": "[encoded data removed]"
          },
          "metadata": {}
        }
      ],
      "source": [
        "import seaborn as sns\n",
        "sns.heatmap(cm,cmap='plasma',fmt=\"d\",annot=True)"
      ]
    },
    {
      "cell_type": "markdown",
      "source": [
        "##Generate Classification Report"
      ],
      "metadata": {
        "id": "2NcP_GYxvxiK"
      }
    },
    {
      "cell_type": "code",
      "execution_count": 42,
      "metadata": {
        "id": "9YIm37GtpivV",
        "colab": {
          "base_uri": "https://localhost:8080/"
        },
        "outputId": "ed98780c-6caa-4bd9-c1d6-9ecb1ff3d0d2"
      },
      "outputs": [
        {
          "output_type": "stream",
          "name": "stdout",
          "text": [
            "              precision    recall  f1-score   support\n",
            "\n",
            "           0       0.97      0.85      0.91      1000\n",
            "           1       0.87      0.98      0.92      1000\n",
            "\n",
            "    accuracy                           0.91      2000\n",
            "   macro avg       0.92      0.91      0.91      2000\n",
            "weighted avg       0.92      0.91      0.91      2000\n",
            "\n"
          ]
        }
      ],
      "source": [
        "from sklearn import metrics\n",
        "print(metrics.classification_report(y_actual,y_test))"
      ]
    },
    {
      "cell_type": "markdown",
      "source": [
        "##Save the Model"
      ],
      "metadata": {
        "id": "KftjvylavkYl"
      }
    },
    {
      "cell_type": "code",
      "source": [
        "model.save('model.h5')\n",
        "model.save('model.keras')"
      ],
      "metadata": {
        "colab": {
          "base_uri": "https://localhost:8080/"
        },
        "id": "zT3RwixhuJ_M",
        "outputId": "73eea4e8-bf40-4a14-d075-b14017092e46"
      },
      "execution_count": 41,
      "outputs": [
        {
          "output_type": "stream",
          "name": "stderr",
          "text": [
            "/usr/local/lib/python3.10/dist-packages/keras/src/engine/training.py:3000: UserWarning:\n",
            "\n",
            "You are saving your model as an HDF5 file via `model.save()`. This file format is considered legacy. We recommend using instead the native Keras format, e.g. `model.save('my_model.keras')`.\n",
            "\n"
          ]
        }
      ]
    },
    {
      "cell_type": "markdown",
      "source": [
        "## Use the trained model to detect the tumor in an unseen test data"
      ],
      "metadata": {
        "id": "LaAAUj4Rvm7L"
      }
    },
    {
      "cell_type": "code",
      "execution_count": null,
      "metadata": {
        "id": "020Iu4XSLLKd"
      },
      "outputs": [],
      "source": [
        "import numpy as np\n",
        "from tensorflow.keras.preprocessing import image\n",
        "import matplotlib.pyplot as plt\n",
        "from google.colab import files\n",
        "import cv2\n",
        "uploaded = files.upload()\n",
        "\n",
        "for fname in uploaded.keys():\n",
        "      img_path = '/content/' + fname\n",
        "      img = image.load_img(img_path, target_size=(224, 224))  # Adjust the target size if needed\n",
        "      img_array = image.img_to_array(img)\n",
        "      img_array = np.expand_dims(img_array, axis=0)\n",
        "      img_array /= 255.0  # Rescale to match the training data preprocessing\n",
        "\n",
        "        # Make predictions using the provided model\n",
        "      prediction = model.predict(img_array)\n",
        "\n",
        "        # Determine the class label based on the prediction\n",
        "      if prediction[0, 0] > 0.5:\n",
        "          class_label = 'Tumor'\n",
        "      else:\n",
        "          class_label = 'Normal'\n",
        "\n",
        "        # Display the uploaded image and prediction\n",
        "      plt.imshow(img)\n",
        "      plt.axis('off')\n",
        "      plt.title(f'Predicted Class: {class_label}')\n",
        "      plt.show()"
      ]
    }
  ],
  "metadata": {
    "accelerator": "GPU",
    "colab": {
      "provenance": []
    },
    "kernelspec": {
      "display_name": "Python 3",
      "name": "python3"
    }
  },
  "nbformat": 4,
  "nbformat_minor": 0
}